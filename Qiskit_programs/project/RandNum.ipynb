{
 "cells": [
  {
   "cell_type": "code",
   "execution_count": 47,
   "metadata": {},
   "outputs": [],
   "source": [
    "# importing the required libraries\n",
    "import numpy as np\n",
    "from qiskit import QuantumCircuit,QuantumRegister,ClassicalRegister,execute\n",
    "from qiskit import Aer,transpile,assemble\n",
    "from qiskit.visualization import plot_histogram,plot_bloch_multivector,array_to_latex\n",
    "from qiskit.extensions import Initialize\n",
    "from qiskit_textbook.tools import random_state\n",
    "import math\n",
    "from qiskit_ibm_provider import IBMProvider\n",
    "\n",
    "# Use your API token to access real quantum hardware\n",
    "IBMProvider.save_account(token='fc9764d6ddc72b895aec2189a792025fe4e8a37698378c45198dd34d1dd2411ef27f8297105e2c6fcb7884bc9a31c4efdc6f7127bfbdfc06e2d3c8cee5237375',overwrite=True)\n",
    "# Choose the Quantum Hub as your provider\n",
    "provider=IBMProvider(instance='ibm-q/open/main')"
   ]
  },
  {
   "cell_type": "code",
   "execution_count": 48,
   "metadata": {},
   "outputs": [],
   "source": [
    "# function to generate a random number between [min and max]\n",
    "def RandNumGenerator(min,max):\n",
    "    # return min or max if both are equal\n",
    "    if(min==max): \n",
    "        return min\n",
    "    # swap min and max if min is greater than max\n",
    "    if(min>max):\n",
    "        return RandNumGenerator(max,min)\n",
    "    # get the range length of the random number\n",
    "    range_length=max-min;\n",
    "    # get the minimum number of qubits/bits required to represent the range\n",
    "    qubits_to_use=math.ceil(math.log2(range_length+1))\n",
    "    # classical register to store the measurement of the qubits\n",
    "    bits=ClassicalRegister(qubits_to_use)\n",
    "    # quantum register to store the qubits\n",
    "    qubits=QuantumRegister(qubits_to_use)\n",
    "    # create a quantum circuit with the qubits and classical registers\n",
    "    circuit=QuantumCircuit(qubits,bits)\n",
    "    # apply hadamard gate to all the qubits\n",
    "    # this will create a superposition of all the possible states with equal probability\n",
    "    for i in range(qubits_to_use):\n",
    "        circuit.h(qubits[i])\n",
    "    # measure the qubits\n",
    "    for i in range(qubits_to_use):\n",
    "        circuit.measure(qubits[i],bits[i])\n",
    "    # choose the backend you want to use\n",
    "    backend=Aer.get_backend('qasm_simulator')\n",
    "    # execute the circuit\n",
    "    job=execute(circuit,backend,shots=1)\n",
    "    # get the result\n",
    "    result=job.result()\n",
    "    counts=result.get_counts()\n",
    "    # Extract the number from the result(dictionary)\n",
    "    number=next(iter(counts))\n",
    "    # convert the binary number to decimal\n",
    "    number=int(number,2)\n",
    "    # if the number is greater than the range length then generate the number again\n",
    "    if(number>range_length):\n",
    "        return RandNumGenerator(min,max)\n",
    "    # return the random number after adding the minimum value of the range\n",
    "    return  number+min\n"
   ]
  },
  {
   "cell_type": "code",
   "execution_count": 49,
   "metadata": {},
   "outputs": [
    {
     "name": "stdout",
     "output_type": "stream",
     "text": [
      "[13, 10, 10, 16, 10, 9, 19, 9, 13, 17, 10, 13, 13, 11, 18, 14, 13, 15, 14, 16, 9, 17, 9, 14, 11, 19, 10, 11, 17, 10, 11, 11, 10, 13, 12, 18, 19, 10, 13, 11, 11, 16, 10, 14, 12, 10, 10, 16, 11, 15, 18, 9, 15, 14, 12, 16, 10, 17, 11, 18, 10, 15, 14, 13, 14, 16, 18, 10, 16, 11, 19, 19, 16, 15, 18, 9, 18, 12, 15, 9, 16, 18, 11, 14, 17, 16, 19, 14, 12, 12, 18, 10, 13, 14, 9, 9, 12, 10, 14, 14, 19, 9, 19, 15, 12, 11, 17, 10, 12, 11, 14, 12, 11, 14, 18, 9, 11, 13, 12, 19, 18, 18, 16, 11, 14, 19, 18, 18, 18, 17, 16, 17, 18, 18, 14, 10, 19, 19, 9, 9, 18, 9, 19, 12, 10, 19, 19, 18, 9, 19, 14, 11, 11, 11, 10, 12, 14, 12, 12, 17, 16, 14, 10, 14, 13, 16, 14, 13, 12, 11, 11, 19, 12, 12, 11, 9, 13, 19, 10, 13, 15, 12, 16, 14, 15, 10, 9, 17, 19, 15, 12, 13, 12, 14, 12, 11, 12, 19, 17, 16, 11, 12, 12, 15, 13, 12, 15, 17, 18, 10, 16, 12, 12, 16, 15, 16, 19, 19, 18, 18, 19, 19, 13, 15, 14, 17, 14, 18, 16, 18, 12, 9, 12, 10, 18, 13, 19, 17, 12, 16, 18, 9, 16, 10, 19, 19, 13, 16, 16, 15, 14, 19, 10, 16, 17, 15, 16, 19, 14, 10, 18, 17, 15, 10, 15, 14, 12, 17, 15, 14, 17, 10, 13, 11, 16, 15, 18, 9, 12, 15, 11, 14, 14, 15, 15, 9, 15, 19, 18, 12, 16, 10, 9, 16, 17, 14, 14, 14, 13, 10, 18, 12, 11, 16, 14, 12, 17, 9, 14, 11, 14, 10, 10, 14, 19, 11, 19, 18, 18, 14, 16, 12, 13, 12, 14, 10, 18, 12, 10, 13, 9, 16, 12, 17, 14, 11, 9, 15, 14, 18, 19, 10, 14, 18, 16, 11, 11, 9, 11, 12, 14, 16, 18, 14, 17, 9, 16, 18, 17, 12, 13, 17, 10, 17, 10, 12, 17, 18, 17, 11, 10, 17, 10, 15, 13, 19, 17, 18, 9, 16, 13, 13, 19, 9, 9, 10, 17, 11, 14, 11, 9, 15, 16, 12, 17, 18, 17, 10, 16, 9, 11, 17, 9, 13, 16, 9, 11, 18, 12, 16, 18, 17, 9, 16, 18, 18, 9, 14, 12, 15, 14, 17, 13, 19, 16, 14, 13, 19, 13, 13, 11, 14, 9, 11, 11, 15, 15, 19, 11, 13, 16, 9, 14, 14, 12, 16, 11, 18, 19, 19, 19, 15, 9, 13, 16, 18, 14, 10, 9, 19, 13, 15, 14, 11, 9, 17, 14, 17, 17, 11, 17, 18, 17, 14, 9, 18, 19, 14, 15, 16, 15, 12, 18, 17, 13, 17, 18, 13, 14, 18, 14, 10, 9, 12, 13, 12, 12, 9, 19, 13, 12, 12, 18, 9, 16, 11, 18, 17, 18, 15, 17, 16, 15, 11, 19, 11, 12, 15, 17, 16, 10, 14, 13, 13, 14, 15, 14, 11, 17, 13, 11, 9, 13, 12, 17, 18, 12, 9, 9, 16, 18, 17, 13, 14, 11, 15, 14, 11, 17, 16, 17, 16, 10, 19, 16, 17, 16, 17, 17, 9, 10, 9, 16, 12, 18, 16, 9, 13, 13, 12, 10, 9, 19, 13, 18, 18, 18, 15, 12, 11, 19, 13, 17, 16, 12, 12, 16, 13, 17, 10, 12, 10, 13, 10, 12, 15, 18, 17, 10, 17, 10, 14, 17, 13, 15, 14, 17, 19, 11, 19, 9, 9, 11, 16, 14, 10, 17, 14, 15, 19, 17, 14, 12, 14, 13, 12, 10, 19, 10, 9, 19, 13, 14, 13, 17, 10, 13, 12, 17, 13, 11, 17, 11, 19, 11, 15, 9, 9, 17, 17, 19, 15, 14, 19, 10, 14, 9, 12, 9, 13, 17, 12, 18, 19, 12, 15, 17, 13, 10, 18, 15, 14, 9, 18, 12, 9, 11, 10, 11, 17, 16, 19, 13, 11, 13, 13, 16, 14, 10, 19, 19, 12, 11, 10, 10, 17, 14, 12, 13, 16, 11, 11, 14, 13, 18, 13, 18, 13, 18, 11, 9, 18, 12, 9, 17, 17, 17, 18, 9, 15, 9, 10, 19, 19, 14, 17, 11, 15, 12, 10, 19, 10, 11, 14, 19, 19, 10, 16, 9, 14, 17, 13, 17, 18, 10, 10, 10, 9, 19, 13, 16, 18, 11, 15, 17, 16, 19, 17, 11, 10, 18, 16, 13, 10, 9, 16, 18, 13, 12, 19, 17, 17, 15, 10, 11, 11, 15, 19, 12, 18, 16, 15, 12, 13, 18, 13, 15, 17, 16, 16, 17, 9, 12, 17, 12, 16, 15, 18, 14, 9, 19, 11, 10, 9, 12, 17, 14, 17, 13, 15, 12, 19, 16, 16, 12, 15, 13, 11, 10, 10, 12, 16, 12, 10, 18, 13, 14, 13, 14, 9, 13, 16, 10, 18, 16, 17, 12, 15, 14, 19, 14, 18, 15, 12, 13, 11, 17, 14, 13, 10, 13, 13, 10, 19, 12, 9, 13, 12, 13, 11, 11, 19, 13, 16, 16, 15, 10, 14, 11, 16, 17, 14, 15, 11, 17, 17, 10, 18, 16, 10, 16, 17, 19, 14, 14, 9, 17, 14, 14, 10, 9, 16, 9, 12, 11, 13, 19, 17, 10, 11, 12, 10, 16, 13, 17, 17, 14, 13, 19, 11, 15, 16, 13, 9, 11, 14, 14, 10, 16, 16, 14, 15, 15, 13, 17, 12, 10, 13, 18, 10, 9, 19, 12, 16, 9, 19, 17, 17, 9, 9, 13, 16, 14, 10, 9, 14, 10, 15, 18, 13, 16, 10, 19, 18, 18, 15, 13, 17, 17, 10, 13, 12, 14, 16, 11, 16, 18, 10, 17, 12, 15, 15, 12, 19, 19, 9, 15, 9, 18, 13, 16, 16, 18, 11, 9, 15, 16, 15, 9, 9, 16, 10, 10, 19, 10, 14, 11, 19, 16, 16]\n"
     ]
    }
   ],
   "source": [
    "# list to store the random numbers\n",
    "cir=[]\n",
    "# total number of random numbers to generate\n",
    "x=1000\n",
    "# generate 'x' random numbers between [min,max]\n",
    "for i in range(x):\n",
    "    cir.append(RandNumGenerator(9,19))\n",
    "# print the list of random numbers\n",
    "print(cir)"
   ]
  },
  {
   "cell_type": "code",
   "execution_count": null,
   "metadata": {},
   "outputs": [],
   "source": []
  },
  {
   "cell_type": "code",
   "execution_count": null,
   "metadata": {},
   "outputs": [],
   "source": []
  }
 ],
 "metadata": {
  "kernelspec": {
   "display_name": "Python 3",
   "language": "python",
   "name": "python3"
  },
  "language_info": {
   "codemirror_mode": {
    "name": "ipython",
    "version": 3
   },
   "file_extension": ".py",
   "mimetype": "text/x-python",
   "name": "python",
   "nbconvert_exporter": "python",
   "pygments_lexer": "ipython3",
   "version": "3.10.5"
  },
  "orig_nbformat": 4
 },
 "nbformat": 4,
 "nbformat_minor": 2
}
