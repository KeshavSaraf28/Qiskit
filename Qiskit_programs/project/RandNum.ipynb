{
 "cells": [
  {
   "cell_type": "code",
   "execution_count": 1,
   "metadata": {},
   "outputs": [],
   "source": [
    "# importing the required libraries\n",
    "import numpy as np\n",
    "from qiskit import QuantumCircuit,QuantumRegister,ClassicalRegister,execute\n",
    "from qiskit import Aer,transpile,assemble\n",
    "from qiskit.visualization import plot_histogram,plot_bloch_multivector,array_to_latex\n",
    "from qiskit.extensions import Initialize\n",
    "from qiskit_textbook.tools import random_state\n",
    "import math\n",
    "from qiskit_ibm_provider import IBMProvider\n",
    "from qiskit.visualization import plot_histogram\n",
    "\n",
    "# Use your API token to access real quantum hardware\n",
    "IBMProvider.save_account(token='fc9764d6ddc72b895aec2189a792025fe4e8a37698378c45198dd34d1dd2411ef27f8297105e2c6fcb7884bc9a31c4efdc6f7127bfbdfc06e2d3c8cee5237375',overwrite=True)\n",
    "# Choose the Quantum Hub as your provider\n",
    "provider=IBMProvider(instance='ibm-q/open/main')"
   ]
  },
  {
   "cell_type": "code",
   "execution_count": 11,
   "metadata": {},
   "outputs": [],
   "source": [
    "# function to generate a random number between [min and max]\n",
    "def RandNumGenerator(min,max):\n",
    "    # return min or max if both are equal\n",
    "    if(min==max): \n",
    "        return min\n",
    "    # swap min and max if min is greater than max\n",
    "    if(min>max):\n",
    "        return RandNumGenerator(max,min)\n",
    "    # get the range length of the random number\n",
    "    range_length=max-min+1;\n",
    "    # get the minimum number of qubits/bits required to represent the range\n",
    "    qubits_to_use=math.ceil(math.log2(range_length))\n",
    "    # classical register to store the measurement of the qubits\n",
    "    bits=ClassicalRegister(qubits_to_use)\n",
    "    # quantum register to store the qubits\n",
    "    qubits=QuantumRegister(qubits_to_use)\n",
    "    # create a quantum circuit with the qubits and classical registers\n",
    "    circuit=QuantumCircuit(qubits,bits)\n",
    "    # apply hadamard gate to all the qubits\n",
    "    # this will create a superposition of all the possible states with equal probability\n",
    "    for i in range(qubits_to_use):\n",
    "        circuit.h(qubits[i])\n",
    "    # measure the qubits\n",
    "    for i in range(qubits_to_use):\n",
    "        circuit.measure(qubits[i],bits[i])\n",
    "    # choose the backend you want to use\n",
    "    backend=Aer.get_backend('qasm_simulator')\n",
    "    # execute the circuit\n",
    "    job=execute(circuit,backend,shots=1)\n",
    "    # get the result\n",
    "    result=job.result()\n",
    "    counts=result.get_counts()\n",
    "    # Extract the number from the result(dictionary)\n",
    "    number=next(iter(counts))\n",
    "    # convert the binary number to decimal\n",
    "    number=int(number,2)\n",
    "    # if the number is greater than the range length-1 then generate the number again\n",
    "    # range_length-1 is used because the range is starting from 0\n",
    "    if(number>range_length-1):\n",
    "        return RandNumGenerator(min,max)\n",
    "    # return the random number after adding the minimum value of the range\n",
    "    return  number+min\n"
   ]
  },
  {
   "cell_type": "code",
   "execution_count": 31,
   "metadata": {},
   "outputs": [
    {
     "data": {
      "image/png": "[encoded data removed]",
      "text/plain": [
       "<Figure size 700x500 with 1 Axes>"
      ]
     },
     "execution_count": 31,
     "metadata": {},
     "output_type": "execute_result"
    }
   ],
   "source": [
    "# Dict to store the random numbers\n",
    "cir=dict()\n",
    "# total number of random numbers to generate\n",
    "x=100\n",
    "# generate 'x' random numbers between [min,max]\n",
    "for i in range(x):\n",
    "    num=RandNumGenerator(0,9)\n",
    "    # add the random number to the dictionary with its count\n",
    "    if(num in cir):\n",
    "        cir[num]+=1\n",
    "    else:\n",
    "        cir[num]=1\n",
    "# Sort the dictionary\n",
    "cir=dict(sorted(cir.items()))\n",
    "# plot the histogram\n",
    "plot_histogram(cir)\n"
   ]
  },
  {
   "cell_type": "code",
   "execution_count": null,
   "metadata": {},
   "outputs": [],
   "source": []
  },
  {
   "cell_type": "code",
   "execution_count": null,
   "metadata": {},
   "outputs": [],
   "source": []
  }
 ],
 "metadata": {
  "kernelspec": {
   "display_name": "Python 3",
   "language": "python",
   "name": "python3"
  },
  "language_info": {
   "codemirror_mode": {
    "name": "ipython",
    "version": 3
   },
   "file_extension": ".py",
   "mimetype": "text/x-python",
   "name": "python",
   "nbconvert_exporter": "python",
   "pygments_lexer": "ipython3",
   "version": "3.10.5"
  },
  "orig_nbformat": 4
 },
 "nbformat": 4,
 "nbformat_minor": 2
}
